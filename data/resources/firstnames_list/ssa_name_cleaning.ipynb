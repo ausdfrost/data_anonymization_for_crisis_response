{
 "cells": [
  {
   "cell_type": "markdown",
   "id": "5379d2f5-788e-4d5b-b87b-fafa8d1680e3",
   "metadata": {
    "tags": []
   },
   "source": [
    "# SSA Name Cleaning\n",
    "Script to clean the social security administration names files into one comma seperated text file."
   ]
  },
  {
   "cell_type": "code",
   "execution_count": 1,
   "id": "3ce0b62f-6ec7-450b-8d89-0d5d577ec18d",
   "metadata": {
    "tags": []
   },
   "outputs": [
    {
     "name": "stdout",
     "output_type": "stream",
     "text": [
      "Unique names have been successfully written to ssa_names.txt\n"
     ]
    }
   ],
   "source": [
    "import os\n",
    "\n",
    "# Directory containing the files\n",
    "directory = \"Popular Baby Names/\"\n",
    "\n",
    "# Set to hold all unique names\n",
    "unique_names = set()\n",
    "\n",
    "# Set frequency threshold of names\n",
    "freq_thresh = 50\n",
    "\n",
    "# Define any undesired names\n",
    "names_to_ignore = {\"de\"}\n",
    "\n",
    "# Loop through each file in the directory\n",
    "for filename in os.listdir(directory):\n",
    "    if filename.endswith(\".txt\"):  # Check to ensure only text files are read\n",
    "        with open(os.path.join(directory, filename), 'r') as file:\n",
    "            \n",
    "            # Read each line in the file\n",
    "            for line in file:\n",
    "                name = line.split(',')[0]  # Get the first item (name) from each line\n",
    "                freq = int(line.split(',')[2]) # Get the frequency of the name occuring\n",
    "                # Add name to the set if it is not in the names to ignore (and not duplicate)\n",
    "                \n",
    "                # Ensure name is unique and name is common (based on freq_thresh)\n",
    "                if (name.lower() not in names_to_ignore) and (freq >= freq_thresh): \n",
    "                    unique_names.add(name)\n",
    "\n",
    "# Combine all unique names into a single string separated by commas\n",
    "unique_names_string = ','.join(unique_names)\n",
    "\n",
    "# Write the unique names to a new text file\n",
    "output_file_path = \"ssa_names.txt\"\n",
    "with open(output_file_path, 'w') as output_file:\n",
    "    output_file.write(unique_names_string)\n",
    "\n",
    "print(\"Unique names have been successfully written to ssa_names.txt\")"
   ]
  },
  {
   "cell_type": "code",
   "execution_count": null,
   "id": "b74610db-6740-4d34-aac4-b3120582bc4e",
   "metadata": {},
   "outputs": [],
   "source": []
  },
  {
   "cell_type": "code",
   "execution_count": null,
   "id": "4eb3e003-9c4b-4a10-849a-ac0ea43b576d",
   "metadata": {},
   "outputs": [],
   "source": []
  }
 ],
 "metadata": {
  "kernelspec": {
   "display_name": "Python 3 (ipykernel)",
   "language": "python",
   "name": "python3"
  },
  "language_info": {
   "codemirror_mode": {
    "name": "ipython",
    "version": 3
   },
   "file_extension": ".py",
   "mimetype": "text/x-python",
   "name": "python",
   "nbconvert_exporter": "python",
   "pygments_lexer": "ipython3",
   "version": "3.11.6"
  }
 },
 "nbformat": 4,
 "nbformat_minor": 5
}
