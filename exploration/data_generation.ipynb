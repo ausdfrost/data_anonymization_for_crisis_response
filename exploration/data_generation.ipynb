{
 "cells": [
  {
   "cell_type": "markdown",
   "id": "eec9b17a-c57f-4405-81fd-b06aa642181e",
   "metadata": {},
   "source": [
    "# Personally Identifiable Information (PII) Data Generation\n",
    "\n",
    "A helper script for for PII Data Anonymization project.\n",
    "\n",
    "Created by Aussie Frost on 4/15/2024"
   ]
  },
  {
   "cell_type": "markdown",
   "id": "9bc33610-c8b0-4de1-bf55-5a9b7ce5c4af",
   "metadata": {},
   "source": [
    "## Preliminary imports"
   ]
  },
  {
   "cell_type": "code",
   "execution_count": 1,
   "id": "cd2d7817-ca90-44c9-8d1e-21cd421355b1",
   "metadata": {
    "tags": []
   },
   "outputs": [],
   "source": [
    "import random\n",
    "import csv"
   ]
  },
  {
   "cell_type": "markdown",
   "id": "1b09dd33-0bf0-4dc6-9fee-b4322f0126a9",
   "metadata": {},
   "source": [
    "## Defining random case narrative data generation script\n",
    "\n",
    "This section defines a script that will generate a complex faux dataset containing PII that can then be anonymized. The data will also contain terms that may appear in crisis response case narratives such that these terms can be analyzed."
   ]
  },
  {
   "cell_type": "code",
   "execution_count": 2,
   "id": "cf95206c-042c-48ec-abab-a0f4172f2f0d",
   "metadata": {
    "tags": []
   },
   "outputs": [],
   "source": [
    "def random_call_transcription():\n",
    "    \"\"\"Generate a random call transcription based on predefined templates.\"\"\"\n",
    "    \n",
    "    # define our templates\n",
    "    templates = [\n",
    "        \"Hi, this is {name}. I need to discuss the charges on my last bill from my visit on {date}. My insurance should have covered my behavioral therapy sessions. Please call me back at {phone} or email me at {email}. Also, the new address is {address}\",\n",
    "        \"Good afternoon, I'm {name}. I am calling to update my address to {address}. Also, could you send a confirmation to {email}? I also need to talk about my recent diagnosis and treatment plan.\",\n",
    "        \"Hello, my name is {name}. I am calling to confirm my appointment on {date} for my annual physical examination. Is your zip still {zipcode}? Please tell us. Also, please note my new phone number is {phone}, and my current address is {address}.\",\n",
    "        \"This is {name}. I need to order a new batch of insulin pens. My doctor, Dr. Harris, recommended changing the dosage. You can reach me at {email} or {phone}.\",\n",
    "        \"I'm {name} calling because I have questions regarding the side effects of the new medication prescribed to me last week. Please call me at {phone} or send details to {email}.\",\n",
    "        \"Hi, this is {name}. I'm following up on my recent test results for my heart condition discussed on {date}. I've moved to {address}. My new contact number is {phone}, and my email is {email}.\",\n",
    "        \"My name is {name}, and I am contacting you regarding my therapy sessions. We needed to report this case. I faxed to this address: {fax}, and plan to call on {phone}. You can contact me at {email} or {phone}.\",\n",
    "        \"Hello, it's {name} here. I need to discuss the billing error reported at {ip} related to my knee surgery. I found more info on {website}. Please send the corrected invoice to my address at {address}, or email me at {email}.\",\n",
    "        \"We went on a case today. {name} was requesting help, experiencing some medical issues. I contacted {email} to give the address, and they said it was {address}. Perhaps we will ask people around {zipcode}.\"\n",
    "    ]\n",
    "    \n",
    "    # generate some spoofy names\n",
    "    first_names = [\n",
    "        \"John\", \"Jane\", \"David\", \"Emily\", \"Michael\", \"Sarah\", \"William\", \"Jennifer\", \"Robert\", \"Mary-Sue\"\n",
    "        \"Jessica\", \"Andrew\", \"Dr. Ashley\", \"James\", \"Amanda\", \"Sir Matthew\", \"Christina\", \"Daniel\", \"Elizabeth\",\n",
    "        \"Joseph\", \"Nicole\", \"Anthony\", \"Margaret\", \"Kevin\", \"Laura\", \"Bryan\", \"Miss Alexis\", \"Nicholas\", \"Katherine\",\n",
    "        \"Aiden\", \"Bella\", \"Carter\", \"Delilah\", \"Ethan\", \"Fiona\", \"Grayson\", \"Hazel\", \"Isaiah\", \"Juliet\",\n",
    "        \"Kai\", \"Luna\", \"Mason\", \"Nora\", \"Oliver\", \"Penelope\", \"Quentin\", \"Riley\", \"Sebastian\", \"Tessa\",\n",
    "        \"Uriah\", \"Violet\", \"Winston\", \"Xena\", \"Yosef\", \"Zoe\", \"Abram\", \"Beatrice\", \"Cedric\", \"Daphne\",\n",
    "        \"Eliot\", \"Freya\", \"Gideon\", \"Harriet\", \"Idris\", \"Juno\", \"Knox\", \"Leia\", \"Milo\", \"Naomi\",\n",
    "        \"Oscar\", \"Phoebe\", \"Reece\", \"Sienna\", \"Theo\", \"Uma\", \"Victor\", \"Willow\", \"Xavier\", \"Yasmin\",\n",
    "        \"Zane\", \"Adele\", \"Blaine\", \"Cora\", \"Dexter\", \"Elsie\", \"Flynn\", \"Gracie\", \"Holden\", \"Iris\",\n",
    "        \"Jasper\", \"Keira\", \"Levi\", \"Matilda\", \"Nolan\", \"Olive\", \"Paxton\", \"Quinn\", \"Rowan\", \"Scarlett\",\n",
    "        \"Tristan\", \"Ursula\", \"Vaughn\", \"Whitney\", \"Xander\", \"Yara\", \"Zack\", \"Alma\", \"Barrett\", \"Celeste\",\n",
    "        \"Drake\", \"Esme\", \"Finn\", \"Gemma\", \"Hugo\", \"Ivy\", \"Jonah\", \"Kyla\", \"Lionel\", \"Mira\", \"Nico\",\n",
    "        \"Octavia\", \"Pierce\", \"Rosalie\", \"Soren\", \"Thalia\", \"Ulysses\", \"Verity\", \"Wesley\", \"Yvette\"\n",
    "    ]\n",
    "    last_names = [\n",
    "        \"Abbott\", \"Black\", \"Chapman\", \"Duffy\", \"Ellison\", \"Finch\", \"Griffith\", \"Harlow\", \"Ingram\", \"Jennings\",\n",
    "        \"Knight\", \"Lowe\", \"Maxwell\", \"Norris\", \"Osborne\", \"Pike\", \"Quinn\", \"Rhodes\", \"Sherwood\", \"Tate\",\n",
    "        \"Underwood\", \"Vance\", \"Whitfield\", \"York\", \"Adler\", \"Barron\", \"Connor\", \"Donahue\", \"Easton\", \"Field\",\n",
    "        \"Golden\", \"Hartford\", \"Ivy\", \"Joyner\", \"Kessler\", \"Lawton\", \"Merritt\", \"North\", \"Overton\", \"Pritchard\",\n",
    "        \"Quick\", \"Rivers\", \"Sterling\", \"Thorne\", \"Upton\", \"Vaughn\", \"Waverly\", \"Xavier\", \"Youngblood\", \"Ziegler\",\n",
    "        \"Archer\", \"Beck\", \"Colby\", \"Dalton\", \"Everett\", \"Frost\", \"Garrison\", \"Hammond\", \"Irvine\", \"Justice\",\n",
    "        \"Kipling\", \"Langston\", \"Morrow\", \"Noble\", \"Oakley\", \"Parson\", \"Quest\", \"Reilly\", \"Sawyer\", \"Thrasher\",\n",
    "        \"Ulrich\", \"Valentine\", \"Warner\", \"Xiong\", \"Yost\", \"Zimmerman\", \"Ashby\", \"Birch\", \"Crowley\", \"Davenport\",\n",
    "        \"Emerson\", \"Forrester\", \"Gilmore\", \"Hale\", \"Irwin\", \"Jasper\", \"Kent\", \"Law\", \"Meadow\", \"Northwood\",\n",
    "        \"O'Donnell\", \"Pace\", \"Quill\", \"Riddle\", \"Sloan\", \"Tanner\", \"Upshaw\", \"Vincent\", \"Welles\", \"Younger\"\n",
    "    ]\n",
    "\n",
    "    # Generate a random number of names, from 1 to 3\n",
    "    num_names = random.randint(1, 3)\n",
    "    names = [f\"{random.choice(first_names)} {random.choice(last_names)}\" for _ in range(num_names)]\n",
    "\n",
    "    # Format the names into a natural sounding list\n",
    "    if num_names > 1:\n",
    "        name_text = \", \".join(names[:-1]) + \" and \" + names[-1]\n",
    "    else:\n",
    "        name_text = names[0]\n",
    "\n",
    "    area_codes = [\"212\", \"312\", \"404\", \"617\", \"703\", \"818\", \"904\", \"206\", \"303\", \"415\"]\n",
    "    phone_formats = [\"({area_code})-234-1423\", \"{area_code}-832-1437\", \"+1 {area_code}-802-1437\", \"{area_code} 812 1497\"]\n",
    "    address_formats = [\"123 Main St, San Francisco, CA 12345\", \"567 Elm St, Eugene, Ore 54321\", \"42 Park Way\", \"81915 East 24th Ave, Eugene\"\n",
    "                      \"15161 Thornberry Lane, Eugene\", \"51 West 13th St, Eugene, OR 98412\"]\n",
    "    fax_formats = [\"+1-907-555-1234\"]\n",
    "    email_formats = [\"jeff@example.net\"]\n",
    "    zipcode_formats = [\"97401\", \"04215\", \"24321-4215\", \"14512\"]\n",
    "    website_formats = [\"www.example.com\", \"example.com\", \"http://this.net\", \"https://www.instagram.com/aoc\"]\n",
    "    ip_formats = ['.'.join(str(random.randint(0, 255)) for _ in range(4)), ':'.join('{:x}'.format(random.randint(0, 2**16 - 1)) for _ in range(8))]\n",
    "    date_formats = [\"2023-10-26\", \"12/04/2022\", \"August 15, 1999\", \"03.11.2018\", \"2010-02-02\", \"January 31\", \"2 Feb\", \"June 14\", \"September 22\", \"Mar 21st\", \"Apr 1\"]\n",
    "\n",
    "    name_context_templates = [f\"involving {name_text}\",\n",
    "                              f\"with {name_text}\",\n",
    "                              f\"involving a person or people named {name_text}\",\n",
    "                              f\"among {name_text}\",\n",
    "                              f\"around {name_text} and others\"]\n",
    "    name_context = random.choice(name_context_templates)\n",
    "    \n",
    "    # Random selection of template and filling it\n",
    "    template = random.choice(templates)\n",
    "    return template.format(\n",
    "        name=name_text,\n",
    "        email=random.choice(email_formats),\n",
    "        phone = random.choice(phone_formats).format(area_code=random.choice(area_codes)),\n",
    "        address = f\"{random.choice(address_formats)}, {random.choice(zipcode_formats)}\",\n",
    "        fax = random.choice(fax_formats),\n",
    "        website = random.choice(website_formats),\n",
    "        ip = random.choice(ip_formats),\n",
    "        date = random.choice(date_formats),\n",
    "        zipcode = random.choice(zipcode_formats)\n",
    "    )\n",
    "\n",
    "    return\n",
    "\n",
    "def generate_dataset(size, datapath):\n",
    "    \"\"\" \n",
    "        Returns nothing, but creates dataset and saves to project dir.\n",
    "    \"\"\"\n",
    "    \n",
    "    call_types = [\"medical\", \"behavioral\", \"outreach\", \"checkin\"]\n",
    "    \n",
    "    data = []\n",
    "    for i in range(size):\n",
    "        call_time = f\"2024-{random.randint(1, 12):02d}-{random.randint(1, 28):02d} {random.randint(0, 23):02d}:{random.randint(0, 59):02d}:{random.randint(0, 59):02d}\"\n",
    "        call_type = random.choice(call_types)\n",
    "        call_transcription = random_call_transcription()\n",
    "        data.append({\n",
    "            \"time_of_call\": call_time, \n",
    "            \"call_type\": call_type,\n",
    "            \"call_transcription\": call_transcription\n",
    "        })\n",
    "\n",
    "    # Write data to CSV file\n",
    "    with open(datapath, \"w\", newline=\"\") as f:\n",
    "        writer = csv.DictWriter(f, fieldnames=[\"time_of_call\", \"call_type\", \"call_transcription\"])\n",
    "        writer.writeheader()\n",
    "        writer.writerows(data)\n",
    "    print(f\"Call data CSV file generated successfully at {datapath}\")\n",
    "\n",
    "    return"
   ]
  },
  {
   "cell_type": "markdown",
   "id": "68082c88-24c3-40a1-bc9c-20feea25838e",
   "metadata": {},
   "source": [
    "## Generating a test dataset\n",
    "\n",
    "Deploying the data generation script is as easy as one line of code."
   ]
  },
  {
   "cell_type": "code",
   "execution_count": 3,
   "id": "6e79c23b-e2dd-42f1-97d6-63c29aef3fe0",
   "metadata": {
    "tags": []
   },
   "outputs": [
    {
     "name": "stdout",
     "output_type": "stream",
     "text": [
      "Call data CSV file generated successfully at data/call_data.csv\n"
     ]
    }
   ],
   "source": [
    "# generate a faux dataset\n",
    "generate_dataset(1000, \"data/call_data.csv\")"
   ]
  },
  {
   "cell_type": "code",
   "execution_count": null,
   "id": "1ce12d6b-347f-463d-bebc-2ac9764c7731",
   "metadata": {},
   "outputs": [],
   "source": []
  }
 ],
 "metadata": {
  "kernelspec": {
   "display_name": "Python 3 (ipykernel)",
   "language": "python",
   "name": "python3"
  },
  "language_info": {
   "codemirror_mode": {
    "name": "ipython",
    "version": 3
   },
   "file_extension": ".py",
   "mimetype": "text/x-python",
   "name": "python",
   "nbconvert_exporter": "python",
   "pygments_lexer": "ipython3",
   "version": "3.11.6"
  }
 },
 "nbformat": 4,
 "nbformat_minor": 5
}
